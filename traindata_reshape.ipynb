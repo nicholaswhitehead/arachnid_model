{
 "cells": [
  {
   "cell_type": "markdown",
   "id": "8df80c9b",
   "metadata": {},
   "source": [
    "Prepping Data For Training\n",
    "--\n",
    "\n",
    "Below are two methods of normalizing data. Padding each image to square and resizing to the desired resolution seemed to throw off training, and came up with worse results. Stretching to square and resizing allowed for better results, and is what was used for the final training data.\n",
    "It should be noted that all training data was sourced in an as-square-as-possible format, so there was very little actual \"stretching\" occurring - only minutiae necessary for normalized input to the model."
   ]
  },
  {
   "cell_type": "code",
   "execution_count": 1,
   "id": "12c9b73f",
   "metadata": {},
   "outputs": [],
   "source": [
    "import cv2\n",
    "import numpy as np\n",
    "from PIL import Image\n",
    "import os\n",
    "from matplotlib import pyplot as plt"
   ]
  },
  {
   "cell_type": "code",
   "execution_count": 3,
   "id": "52650565",
   "metadata": {},
   "outputs": [],
   "source": [
    "# Pad with black to square, resize:\n",
    "\n",
    "directory = r'/home/nicholas/notebook/jupyterenv/spiderid/initial_model/bespokedata'\n",
    "outputdir = r'/home/nicholas/notebook/jupyterenv/spiderid/initial_model/bespokenew'\n",
    "\n",
    "for subdir in os.listdir(directory):\n",
    "    currdir = os.path.join(directory,subdir)\n",
    "    outdir = os.path.join(outputdir,subdir)\n",
    "    if not os.path.isdir(outdir):\n",
    "        os.mkdir(outdir)\n",
    "        \n",
    "    for filename in os.listdir(currdir):\n",
    "        file = os.path.join(currdir,filename)\n",
    "        img = Image.open(file).convert('L') # grayscale\n",
    "        width, height = img.size\n",
    "        \n",
    "        if width>height:\n",
    "            newimg = Image.new(img.mode, (width, width), 0) # creates a black square to impose image on\n",
    "            newimg.paste(img) # pasts image onto the square\n",
    "        elif height>width:\n",
    "            newimg = Image.new(img.mode, (height, height), 0) # creates a black square to impose image on\n",
    "            newimg.paste(img) # pasts image onto the square\n",
    "        else:\n",
    "            newimg = img\n",
    "        newimg = newimg.resize((160,160), Image.ANTIALIAS)\n",
    "        newimg = newimg.convert('RGB')\n",
    "        \n",
    "        newimg.save(os.path.join(outdir, filename))"
   ]
  },
  {
   "cell_type": "code",
   "execution_count": 2,
   "id": "b7a21601",
   "metadata": {},
   "outputs": [
    {
     "name": "stderr",
     "output_type": "stream",
     "text": [
      "Invalid SOS parameters for sequential JPEG\n"
     ]
    }
   ],
   "source": [
    "# Stretch to ratio, resize (Used for final dat):\n",
    "\n",
    "directory = r'/home/nicholas/notebook/jupyterenv/spiderid/initial_model/bespokenorm_temp'\n",
    "outputdir = r'/home/nicholas/notebook/jupyterenv/spiderid/initial_model/bespokenorm'\n",
    "\n",
    "for subdir in os.listdir(directory):\n",
    "    currdir = os.path.join(directory,subdir)\n",
    "    outdir = os.path.join(outputdir,subdir)\n",
    "    if not os.path.isdir(outdir):\n",
    "        os.mkdir(outdir)\n",
    "        \n",
    "    for filename in os.listdir(currdir):\n",
    "        file = os.path.join(currdir,filename)\n",
    "        img = cv2.cvtColor(cv2.resize(cv2.imread(file, cv2.IMREAD_COLOR), (160, 160), interpolation=cv2.INTER_CUBIC), cv2.COLOR_BGR2GRAY)\n",
    "        cv2.imwrite(os.path.join(outdir, filename), img)"
   ]
  },
  {
   "cell_type": "code",
   "execution_count": null,
   "id": "c227d55c",
   "metadata": {},
   "outputs": [],
   "source": []
  }
 ],
 "metadata": {
  "kernelspec": {
   "display_name": "gpu",
   "language": "python",
   "name": "gpu"
  },
  "language_info": {
   "codemirror_mode": {
    "name": "ipython",
    "version": 3
   },
   "file_extension": ".py",
   "mimetype": "text/x-python",
   "name": "python",
   "nbconvert_exporter": "python",
   "pygments_lexer": "ipython3",
   "version": "3.8.12"
  }
 },
 "nbformat": 4,
 "nbformat_minor": 5
}
